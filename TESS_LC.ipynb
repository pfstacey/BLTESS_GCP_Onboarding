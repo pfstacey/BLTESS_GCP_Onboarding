{
 "cells": [
  {
   "cell_type": "code",
   "execution_count": 28,
   "metadata": {},
   "outputs": [],
   "source": [
    "import pickle"
   ]
  },
  {
   "cell_type": "code",
   "execution_count": 52,
   "metadata": {},
   "outputs": [
    {
     "name": "stdout",
     "output_type": "stream",
     "text": [
      "gs://tess-goddard-lcs/tesslcs_sector_1_104/tesslcs_tmag_10_11/tesslc_115176536.pkl\r\n"
     ]
    }
   ],
   "source": [
    "!gsutil ls gs://tess-goddard-lcs/tesslcs_sector_1_104/tesslcs_tmag_10_11/tesslc_115176536.pkl"
   ]
  },
  {
   "cell_type": "code",
   "execution_count": 53,
   "metadata": {},
   "outputs": [
    {
     "ename": "FileNotFoundError",
     "evalue": "[Errno 2] No such file or directory: 'gs://tess-goddard-lcs/tesslcs_sector_1_104/tesslcs_tmag_10_11/tesslc_115176536.pkl'",
     "output_type": "error",
     "traceback": [
      "\u001b[0;31m---------------------------------------------------------------------------\u001b[0m",
      "\u001b[0;31mFileNotFoundError\u001b[0m                         Traceback (most recent call last)",
      "\u001b[0;32m<ipython-input-53-d4aa39b48fc1>\u001b[0m in \u001b[0;36m<module>\u001b[0;34m\u001b[0m\n\u001b[0;32m----> 1\u001b[0;31m \u001b[0mfp\u001b[0m\u001b[0;34m=\u001b[0m\u001b[0mopen\u001b[0m\u001b[0;34m(\u001b[0m\u001b[0;34m'gs://tess-goddard-lcs/tesslcs_sector_1_104/tesslcs_tmag_10_11/tesslc_115176536.pkl'\u001b[0m\u001b[0;34m,\u001b[0m\u001b[0;34m'rb'\u001b[0m\u001b[0;34m)\u001b[0m\u001b[0;34m\u001b[0m\u001b[0m\n\u001b[0m\u001b[1;32m      2\u001b[0m \u001b[0mdata\u001b[0m\u001b[0;34m=\u001b[0m\u001b[0mpickle\u001b[0m\u001b[0;34m.\u001b[0m\u001b[0mload\u001b[0m\u001b[0;34m(\u001b[0m\u001b[0mfp\u001b[0m\u001b[0;34m)\u001b[0m\u001b[0;34m\u001b[0m\u001b[0m\n\u001b[1;32m      3\u001b[0m \u001b[0mfp\u001b[0m\u001b[0;34m.\u001b[0m\u001b[0mclose\u001b[0m\u001b[0;34m(\u001b[0m\u001b[0;34m)\u001b[0m\u001b[0;34m\u001b[0m\u001b[0m\n\u001b[1;32m      4\u001b[0m \u001b[0;34m\u001b[0m\u001b[0m\n\u001b[1;32m      5\u001b[0m \u001b[0;31m# From the README.txt\u001b[0m\u001b[0;34m\u001b[0m\u001b[0;34m\u001b[0m\u001b[0m\n",
      "\u001b[0;31mFileNotFoundError\u001b[0m: [Errno 2] No such file or directory: 'gs://tess-goddard-lcs/tesslcs_sector_1_104/tesslcs_tmag_10_11/tesslc_115176536.pkl'"
     ]
    }
   ],
   "source": [
    "fp=open('gs://tess-goddard-lcs/tesslcs_sector_1_104/tesslcs_tmag_10_11/tesslc_115176536.pkl','rb')\n",
    "data=pickle.load(fp)\n",
    "fp.close()\n",
    "\n",
    "# From the README.txt\n",
    "# Each pickle file contains a list (here opened as variable name \"data\") with indexing:\n",
    "\n",
    "# data[0]: TIC (int)\n",
    "# data[1]: RA (float)\n",
    "# data[2]: Dec (float)\n",
    "# data[3]: TESS magnitude (float)\n",
    "# data[4]: Camera (int)\n",
    "# data[5]: Chip (int)\n",
    "# data[6]: Time (1d array)\n",
    "# data[7]: Raw flux (1d array)\n",
    "# data[8]: Corrected Flux (1d array)\n",
    "# data[9]: PCA flux (1d array)\n",
    "# data[10]: Flux error (1d array)\n",
    "# data[11]: Quality (1d array)\n",
    "\n",
    "# For general purposes, the quality flags should be used to mask array elements where the flag is not equal to zero, e.g.:\n",
    "\n",
    "# q=data[11]==0\n",
    "# time=data[6][q]\n",
    "# flux=data[8][q]\n"
   ]
  },
  {
   "cell_type": "code",
   "execution_count": 50,
   "metadata": {},
   "outputs": [
    {
     "name": "stdout",
     "output_type": "stream",
     "text": [
      "\u001b[0m\u001b[01;34manaconda3\u001b[0m/                       Anaconda3-4.2.0-Linux-x86_64.sh.1\r\n",
      "Anaconda3-4.0.0-Linux-x86_64.sh  \u001b[01;34mappengine-gcs-client\u001b[0m/\r\n",
      "Anaconda3-4.2.0-Linux-x86_64.sh  \u001b[01;34mBSRC\u001b[0m/\r\n"
     ]
    }
   ],
   "source": [
    "ls"
   ]
  },
  {
   "cell_type": "code",
   "execution_count": null,
   "metadata": {},
   "outputs": [],
   "source": []
  },
  {
   "cell_type": "code",
   "execution_count": null,
   "metadata": {},
   "outputs": [],
   "source": []
  }
 ],
 "metadata": {
  "anaconda-cloud": {},
  "kernelspec": {
   "display_name": "Python 2",
   "language": "python",
   "name": "python2"
  },
  "language_info": {
   "codemirror_mode": {
    "name": "ipython",
    "version": 3
   },
   "file_extension": ".py",
   "mimetype": "text/x-python",
   "name": "python",
   "nbconvert_exporter": "python",
   "pygments_lexer": "ipython3",
   "version": "3.5.2"
  }
 },
 "nbformat": 4,
 "nbformat_minor": 4
}
